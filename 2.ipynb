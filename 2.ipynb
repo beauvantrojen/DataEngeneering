{
 "cells": [
  {
   "cell_type": "code",
   "execution_count": 27,
   "metadata": {},
   "outputs": [
    {
     "name": "stdout",
     "output_type": "stream",
     "text": [
      "     faa                                  name        lat        lon  alt  \\\n",
      "364  EWR  Newark Liberty International Airport  40.692501 -74.168701   18   \n",
      "588  JFK  John F Kennedy International Airport  40.639801 -73.778900   13   \n",
      "655  LGA                    La Guardia Airport  40.777199 -73.872597   21   \n",
      "\n",
      "      tz dst             tzone  \n",
      "364 -5.0   A  America/New_York  \n",
      "588 -5.0   A  America/New_York  \n",
      "655 -5.0   A  America/New_York  \n"
     ]
    }
   ],
   "source": [
    "import sqlite3\n",
    "import pandas as pd\n",
    "import matplotlib.pyplot as plt\n",
    "import plotly.express as px\n",
    "\n",
    "database = sqlite3.connect(\"flights_database.db\")\n",
    "\n",
    "query_origins = \"\"\"\n",
    "SELECT DISTINCT origin FROM flights;\n",
    "\"\"\"\n",
    "origins_df = pd.read_sql(query_origins, database)\n",
    "\n",
    "database.close()\n",
    "\n",
    "airports_df = pd.read_csv(\"airports.csv\") \n",
    "\n",
    "filtered_airports_df = airports_df[airports_df['faa'].isin(origins_df['origin'])]\n",
    "\n",
    "\n",
    "print(filtered_airports_df)"
   ]
  },
  {
   "cell_type": "code",
   "execution_count": null,
   "metadata": {},
   "outputs": [
    {
     "data": {
      "application/vnd.plotly.v1+json": {
       "config": {
        "plotlyServerURL": "https://plot.ly"
       },
       "data": [
        {
         "geo": "geo",
         "hovertemplate": "<b>%{hovertext}</b><br><br>lat=%{lat}<br>lon=%{lon}<extra></extra>",
         "hovertext": [
          "Apalachicola Regional Airport",
          "Andrau Airpark",
          "Lehigh Valley International Airport",
          "Abilene Regional Airport",
          "Ambler Airport",
          "Albuquerque International Sunport",
          "Aberdeen Regional Airport",
          "Southwest Georgia Regional Airport",
          "Nantucket Memorial Airport",
          "Waco Regional Airport",
          "California Redwood Coast-Humboldt County Airport",
          "Atlantic City International Airport",
          "Adak Airport",
          "Ardmore Municipal Airport",
          "Kodiak Airport",
          "Addison Airport",
          "Ada Regional Airport",
          "Joint Base Andrews",
          "Allakaket Airport",
          "Alexandria International Airport",
          "Fort Worth Alliance Airport",
          "Allegheny County Airport",
          "Angoon Seaplane Base",
          "Augusta Regional At Bush Field",
          "Athens Ben Epps Airport",
          "Alliance Municipal Airport",
          "Anderson Municipal Darlington Field",
          "Aiken Regional Airport",
          "Wainwright Airport",
          "Lee C Fine Memorial Airport",
          "Atka Airport",
          "Akron Fulton International Airport",
          "Akiak Airport",
          "Akhiok Airport",
          "King Salmon Airport",
          "Colorado Plains Regional Airport",
          "Anaktuvuk Pass Airport",
          "Albany International Airport",
          "Alpine Casparis Municipal Airport",
          "Alice International Airport",
          "Alamogordo White Sands Regional Airport",
          "St Louis Regional Airport",
          "Waterloo Regional Airport",
          "San Luis Valley Regional Bergman Field",
          "Walla Walla Regional Airport",
          "Thomas C Russell Field",
          "Rick Husband Amarillo International Airport",
          "Anniston Regional Airport",
          "Ted Stevens Anchorage International Airport",
          "Anderson Regional Airport",
          "Aniak Airport",
          "Annette Island Airport",
          "Lee Airport",
          "Tri State Steuben County Airport",
          "Anvik Airport",
          "Lima Allen County Airport",
          "Altoona Blair County Airport",
          "Centennial Airport",
          "Napa County Airport",
          "Naples Municipal Airport",
          "Phillips Army Air Field",
          "Alpena County Regional Airport",
          "Marion County Brown Field",
          "Acadiana Regional Airport",
          "Ann Arbor Municipal Airport",
          "Arctic Village Airport",
          "Watertown International Airport",
          "Lakeland-Noble F. Lee Memorial field",
          "Aspen-Pitkin Co/Sardy Field",
          "Boire Field",
          "Talladega Municipal Airport",
          "Astoria Regional Airport",
          "Atqasuk Edward Burnell Sr Memorial Airport",
          "Hartsfield Jackson Atlanta International Airport",
          "Ohio University Snyder Field",
          "Appleton International Airport",
          "Watertown Regional Airport",
          "Augusta State Airport",
          "Alakanuk Airport",
          "Auburn University Regional Airport",
          "Austin Bergstrom International Airport",
          "Wausau Downtown Airport",
          "Asheville Regional Airport",
          "Avon Park Executive Airport",
          "Wilkes Barre Scranton International Airport",
          "Marana Regional Airport",
          "Catalina Airport",
          "Chandler Field",
          "Waycross Ware County Airport",
          "Phoenix-Mesa-Gateway Airport",
          "Kalamazoo Battle Creek International Airport",
          "Beale Air Force Base",
          "Barksdale Air Force Base",
          "Westfield-Barnes Regional Airport",
          "Bay City Municipal Airport",
          "Curtis Field",
          "Wings Field",
          "Bryce Canyon Airport",
          "Boca Raton Airport",
          "Baudette International Airport",
          "Bradley International Airport",
          "Igor I Sikorsky Memorial Airport",
          "Beech Factory Airport",
          "Laurence G Hanscom Field",
          "Bethel Airport",
          "Bradford Regional Airport",
          "Western Neb. Rgnl/William B. Heilig Airport",
          "Boeing Field King County International Airport",
          "Buckley Air Force Base",
          "Meadows Field",
          "Mobile Downtown Airport",
          "Beaver County Airport",
          "Beaufort County Airport",
          "Hutchinson County Airport",
          "Decatur County Industrial Air Park",
          "Greater Binghamton/Edwin A Link field",
          "Bangor International Airport",
          "Hancock County-Bar Harbor Airport",
          "Birmingham-Shuttlesworth International Airport",
          "Block Island State Airport",
          "Biggs Army Air Field (Fort Bliss)",
          "Allen Army Airfield",
          "Eastern Sierra Regional Airport",
          "Billings Logan International Airport",
          "Bismarck Municipal Airport",
          "Keesler Air Force Base",
          "Rocky Mountain Metropolitan Airport",
          "Bemidji Regional Airport",
          "Buckland Airport",
          "Stephens County Airport",
          "Baker City Municipal Airport",
          "Branson Airport",
          "Barking Sands Airport",
          "Burke Lakefront Airport",
          "Raleigh County Memorial Airport",
          "Mercer County Airport",
          "Blythe Airport",
          "Bellingham International Airport",
          "Scott AFB/Midamerica Airport",
          "Brigham City Regional Airport",
          "Monroe County Airport",
          "Central Illinois Regional Airport at Bloomington-Normal",
          "Beaumont Municipal Airport",
          "Big Mountain Airport",
          "Nashville International Airport",
          "Banning Municipal Airport",
          "Burns Municipal Airport",
          "Boise Air Terminal/Gowen Field",
          "General Edward Lawrence Logan International Airport",
          "Bartow Municipal Airport",
          "Miley Memorial Field",
          "Southeast Texas Regional Airport",
          "Brunswick Golden Isles Airport",
          "Brainerd Lakes Regional Airport",
          "Southeast Iowa Regional Airport",
          "Brownsville South Padre Island International Airport",
          "Wiley Post Will Rogers Memorial Airport",
          "Bradshaw Army Airfield",
          "Barter Island LRRS Airport",
          "W K Kellogg Airport",
          "Bert Mooney Airport",
          "Baton Rouge Metropolitan Airport",
          "Bettles Airport",
          "Burlington International Airport",
          "Buffalo Niagara International Airport",
          "Bob Hope Airport",
          "Beverly Municipal Airport",
          "Bowling Green Warren County Regional Airport",
          "Baltimore/Washington International Thurgood Marshall Airport",
          "Buckeye Municipal Airport",
          "Arkansas International Airport",
          "Burley Municipal Airport",
          "Bicycle Lake Army Air Field",
          "Gallatin Field",
          "Columbia Metropolitan Airport",
          "Akron Canton Regional Airport",
          "Caribou Municipal Airport",
          "Greater Cumberland Regional Airport",
          "Council Bluffs Municipal Airport",
          "Columbus Air Force Base",
          "Cable Airport",
          "Buchanan Field",
          "Northeast Iowa Regional Airport",
          "Cold Bay Airport",
          "Cedar City Regional Airport",
          "Woodward Field",
          "Chadron Municipal Airport",
          "Childress Municipal Airport",
          "Merle K (Mudhole) Smith Airport",
          "Essex County Airport",
          "Jack Mc Namara Field Airport",
          "Westover ARB/Metropolitan Airport",
          "Central Airport",
          "Oconee County Regional Airport",
          "Bob Sikes Airport",
          "Cortez Municipal Airport",
          "Coulter Field",
          "Coffeyville Municipal Airport",
          "Cuyahoga County Airport",
          "Cape Girardeau Regional Airport",
          "Chicago Meigs Airport",
          "Casa Grande Municipal Airport",
          "Lovell Field",
          "Charlottesville Albemarle Airport",
          "Charleston Air Force Base-International Airport",
          "Chuathbaluk Airport",
          "Chico Municipal Airport",
          "The Eastern Iowa Airport",
          "Chalkyitsik Airport",
          "Chippewa County International Airport",
          "North Central West Virginia Airport",
          "Clarksville–Montgomery County Regional Airport",
          "Mc Clellan-Palomar Airport",
          "Cleveland Hopkins International Airport",
          "Easterwood Field",
          "William R Fairchild International Airport",
          "Clarks Point Airport",
          "Chehalis Centralia Airport",
          "Charlotte Douglas International Airport",
          "Columbus Municipal Airport",
          "Clearwater Air Park",
          "John Glenn Columbus International Airport",
          "University of Illinois Willard Airport",
          "Houghton County Memorial Airport",
          "Cavern City Air Terminal",
          "Chino Airport",
          "Chanute Martin Johnson Airport",
          "TSTC Waco Airport",
          "Canyonlands Field",
          "Yellowstone Regional Airport",
          "Coeur D'Alene - Pappy Boyington Field",
          "Patrick Air Force Base",
          "Concord Municipal Airport",
          "City of Colorado Springs Municipal Airport",
          "Cotulla-La Salle County Airport",
          "Columbia Regional Airport",
          "Casper-Natrona County International Airport",
          "Grand Strand Airport",
          "Jacksonville Executive at Craig Airport",
          "Corpus Christi International Airport",
          "Yeager Airport",
          "Columbus Metropolitan Airport",
          "Clinton Sherman Airport",
          "Crossville Memorial Whitson Field",
          "Cut Bank International Airport",
          "Chester County G O Carlson Airport",
          "Cross City Airport",
          "Jim Hamilton L.B. Owens Airport",
          "Cushing Municipal Airport",
          "Cincinnati Northern Kentucky International Airport",
          "Clovis Municipal Airport",
          "Corvallis Municipal Airport",
          "Cannon Air Force Base",
          "Central Wisconsin Airport",
          "Clinton Municipal Airport",
          "Calexico International Airport",
          "Conroe-North Houston Regional Airport",
          "Chefornak Airport",
          "Cheyenne Regional Jerry Olson Field",
          "Yakataga Airport",
          "Cape Romanzof LRRS Airport",
          "Davison Army Air Field",
          "Daytona Beach International Airport",
          "Barstow Daggett Airport",
          "Dallas Love Field",
          "Danville Regional Airport",
          "James M Cox Dayton International Airport",
          "W H 'Bud' Barron Airport",
          "Dubuque Regional Airport",
          "Ronald Reagan Washington National Airport",
          "Pryor Field Regional Airport",
          "Dodge City Regional Airport",
          "Decatur Airport",
          "Denver International Airport",
          "Coleman A. Young Municipal Airport",
          "Dallas Fort Worth International Airport",
          "Douglas Municipal Airport",
          "Dothan Regional Airport",
          "Dalhart Municipal Airport",
          "Dickinson Theodore Roosevelt Regional Airport",
          "Chautauqua County-Dunkirk Airport",
          "DLF Airport",
          "Dillingham Airport",
          "Duluth International Airport",
          "Columbia Gorge Regional the Dalles Municipal Airport",
          "Davis Monthan Air Force Base",
          "Deming Municipal Airport",
          "Daniel Field",
          "Dalton Municipal Airport",
          "Vermilion Regional Airport",
          "Dover Air Force Base",
          "Dupage Airport",
          "Desert Rock Airport",
          "Drummond Island Airport",
          "Deering Airport",
          "Beauregard Regional Airport",
          "Durango La Plata County Airport",
          "Del Rio International Airport",
          "Destin Executive Airport",
          "Des Moines International Airport",
          "Delta Municipal Airport",
          "Shreveport Downtown Airport",
          "Detroit Metropolitan Wayne County Airport",
          "Halliburton Field",
          "Bisbee Douglas International Airport",
          "DuBois Regional Airport",
          "Unalaska Airport",
          "Devils Lake Regional Airport",
          "Phoenix Deer Valley Airport",
          "David Wayne Hooks Memorial Airport",
          "Danbury Municipal Airport",
          "Doylestown Airport",
          "Dyess Air Force Base",
          "Eagle Airport",
          "Pangborn Memorial Airport",
          "Chippewa Valley Regional Airport",
          "Iosco County Airport",
          "Elizabeth City Regional Airport & Coast Guard Air Station",
          "Northwest Florida Beaches International Airport",
          "Elmendorf Air Force Base",
          "Edwards Air Force Base",
          "Needles Airport",
          "Eek Airport",
          "Dillant Hopkins Airport",
          "Ellington Airport",
          "Eagle County Regional Airport",
          "Duke Field",
          "Eagle River Union Airport",
          "Egegik Airport",
          "Cape Newenham LRRS Airport",
          "Eielson Air Force Base",
          "Murray Field",
          "Elkhart Municipal Airport",
          "Elkins-Randolph Co-Jennings Randolph Field",
          "Elko Regional Airport",
          "South Arkansas Regional At Goodwin Field",
          "Elim Airport",
          "Elmira Corning Regional Airport",
          "El Paso International Airport",
          "Elfin Cove Seaplane Base",
          "Ely Airport Yelland Field",
          "Emmonak Airport",
          "San Gabriel Valley Airport",
          "Kenai Municipal Airport",
          "Vance Air Force Base",
          "Nenana Municipal Airport",
          "Wendover Airport",
          "Kenosha Regional Airport",
          "Keokuk Municipal Airport",
          "Erie International Tom Ridge Field",
          "Kerrville Municipal Louis Schreiner Field",
          "Delta County Airport",
          "Orcas Island Airport",
          "Esler Regional Airport",
          "Easton Newnam Field",
          "West Bend Municipal Airport",
          "Enterprise Municipal Airport",
          "Weedon Field",
          "Mahlon Sweet Field",
          "Evansville Regional Airport",
          "Evanston-Uinta County Airport-Burns Field",
          "New Bedford Regional Airport",
          "Newton City-County Airport",
          "Coastal Carolina Regional Airport",
          "Newark Liberty International Airport",
          "Key West International Airport",
          "Felker Army Air Field",
          "Fairbanks International Airport",
          "Hector International Airport",
          "Fresno Yosemite International Airport",
          "Fayetteville Regional Grannis Field",
          "Simmons Army Air Field",
          "Ladd AAF Airfield",
          "Fort Bridger Airport",
          "Glacier Park International Airport",
          "Flying Cloud Airport",
          "Butts AAF (Fort Carson) Air Field",
          "Findlay Airport",
          "Fremont Municipal Airport",
          "First Flight Airport",
          "Wright-Patterson Air Force Base",
          "Capital City Airport",
          "Sierra Vista Municipal Libby Army Air Field",
          "Venango Regional Airport",
          "Fond du Lac County Airport",
          "Flagstaff Pulliam Airport",
          "Fort Lauderdale Hollywood International Airport",
          "Florence Regional Airport",
          "Marion County Regional Airport",
          "Sherman Army Air Field",
          "Tipton Airport",
          "Cape Cod Coast Guard Air Station",
          "Four Corners Regional Airport",
          "Page Field",
          "Northern Colorado Regional Airport",
          "Funter Bay Seaplane Base",
          "Bishop International Airport",
          "Fort Dodge Regional Airport",
          "Topeka Regional Airport - Forbes Field",
          "Francis S Gabreski Airport",
          "St Lucie County International Airport",
          "Friday Harbor Airport",
          "Republic Airport",
          "Marshall Army Air Field",
          "Bryant Army Heliport",
          "Eastern Slopes Regional Airport",
          "Joe Foss Field Airport",
          "Henry Post Army Air Field (Fort Sill)",
          "Fort Smith Regional Airport",
          "Fort Stockton Pecos County Airport",
          "Godman Army Air Field",
          "Fort Worth Meacham International Airport",
          "Fulton County Airport Brown Field",
          "Fullerton Municipal Airport",
          "Fort Wayne International Airport",
          "NAS Fort Worth JRB/Carswell Field",
          "Fort Lauderdale Executive Airport",
          "Fort Yukon Airport",
          "Drake Field",
          "Northeast Alabama Regional Airport",
          "Montgomery County Airpark",
          "Edward G. Pitka Sr Airport",
          "Gambell Airport",
          "Great Bend Municipal Airport",
          "Galesburg Municipal Airport",
          "Gillette Campbell County Airport",
          "Garden City Regional Airport",
          "Grand Canyon National Park Airport",
          "Donaldson Field Airport",
          "Dawson Community Airport",
          "Gladwin Zettel Memorial Airport",
          "Sussex County Airport",
          "Spokane International Airport",
          "Grand Forks International Airport",
          "Floyd Bennett Memorial Airport",
          "Georgetown County Airport",
          "East Texas Regional Airport",
          "Wokal Field Glasgow International Airport",
          "Winter Haven Regional Airport - Gilbert Field",
          "Grand Junction Regional Airport",
          "Gulkana Airport",
          "Renner Field-Goodland Municipal Airport",
          "Mid Delta Regional Airport",
          "Gaylord Regional Airport",
          "Scholes International At Galveston Airport",
          "Golovin Airport",
          "Glasgow Municipal Airport",
          "Greenville Downtown Airport",
          "Monument Valley Airport",
          "Grants-Milan Municipal Airport",
          "Gainesville Regional Airport",
          "Groton New London Airport",
          "Gulfport Biloxi International Airport",
          "Grand Rapids Itasca Co-Gordon Newstrom field",
          "Galion Municipal Airport",
          "Austin Straubel International Airport",
          "Gray Army Air Field",
          "Central Nebraska Regional Airport",
          "Robert Gray  Army Air Field Airport",
          "Grand Marais Cook County Airport",
          "Gerald R. Ford International Airport",
          "Seymour Johnson Air Force Base",
          "Piedmont Triad International Airport",
          "Greenville Spartanburg International Airport",
          "Gustavus Airport",
          "Great Falls International Airport",
          "Golden Triangle Regional Airport",
          "Gunnison Crested Butte Regional Airport",
          "Jack Edwards Airport",
          "Gallup Municipal Airport",
          "Grissom Air Reserve Base",
          "Guymon Municipal Airport",
          "Lee Gilmer Memorial Airport",
          "Majors Airport",
          "Greenwood–Leflore Airport",
          "Greeley–Weld County Airport",
          "Phoenix Goodyear Airport",
          "Gary Chicago International Airport",
          "Half Moon Bay Airport",
          "Butler Co Regional Airport - Hogan Field",
          "Capital City Airport",
          "Hattiesburg Bobby L Chain Municipal Airport",
          "Hobart Regional Airport",
          "Holy Cross Airport",
          "Cheraw Municipal Airport/Lynch Bellinger Field",
          "Brewster Field",
          "Dillingham Airfield",
          "Hardwick Field",
          "Yampa Valley Airport",
          "Hartford Brainard Airport",
          "Hagerstown Regional Richard A Henson Field",
          "Hilton Head Airport",
          "Wheeler Army Airfield",
          "Jack Northrop Field Hawthorne Municipal Airport",
          "Range Regional Airport",
          "Hill Air Force Base",
          "Lake Havasu City Airport",
          "Portland Hillsboro Airport",
          "Hickory Regional Airport",
          "Wheeling Ohio County Airport",
          "Hollister Municipal Airport",
          "Helena Regional Airport",
          "Hood Army Air Field",
          "Holloman Air Force Base",
          "Hoonah Airport",
          "Daniel K Inouye International Airport",
          "Hana Airport",
          "Haines Airport",
          "Lea County Regional Airport",
          "Homer Airport",
          "Huron Regional Airport",
          "Campbell AAF (Fort Campbell) Air Field",
          "Memorial Field",
          "William P Hobby Airport",
          "Hooper Bay Airport",
          "Westchester County Airport",
          "Bowerman Airport",
          "Valley International Airport",
          "Boone County Airport",
          "Henderson Executive Airport",
          "Huslia Airport",
          "Homestead ARB Airport",
          "Huntsville International Carl T Jones Field",
          "Roscommon County - Blodgett Memorial Airport",
          "Tri-State/Milton J. Ferguson Field",
          "Huntsville Regional Airport",
          "Redstone Army Air Field",
          "Terre Haute Regional Airport, Hulman Field",
          "Houlton International Airport",
          "Hughes Airport",
          "Hutchinson Municipal Airport",
          "Tweed New Haven Airport",
          "Havre City County Airport",
          "Hartsville Regional Airport",
          "Hayward Executive Airport",
          "North Perry Airport",
          "Barnstable Municipal Boardman Polando Field",
          "Hydaburg Seaplane Base",
          "Sawyer County Airport",
          "Hays Regional Airport",
          "Hazleton Municipal Airport",
          "Mc Connell Air Force Base",
          "Washington Dulles International Airport",
          "Niagara Falls International Airport",
          "George Bush Intercontinental Houston Airport",
          "Bob Baker Memorial Airport",
          "Wichita Eisenhower National Airport",
          "Idaho Falls Regional Airport",
          "Independence Municipal Airport",
          "Igiugig Airport",
          "Wilkes County Airport",
          "Greater Kankakee Airport",
          "Nikolski Air Station",
          "New Castle Airport",
          "Iliamna Airport",
          "Wilmington International Airport",
          "Wilmington Airpark",
          "Immokalee Regional Airport",
          "Ford Airport",
          "Indianapolis International Airport",
          "Winkler County Airport",
          "Falls International Airport",
          "Creech Air Force Base",
          "Smith Reynolds Airport",
          "Winslow Lindbergh Regional Airport",
          "Iowa City Municipal Airport",
          "Imperial County Airport",
          "Williamsport Regional Airport",
          "Iraan Municipal Airport",
          "Circle City /New/ Airport",
          "Kirksville Regional Airport",
          "Kissimmee Gateway Airport",
          "Sloulin Field International Airport",
          "Kinston Regional Jetport At Stallings Field",
          "Long Island Mac Arthur Airport",
          "Alexander Field South Wood County Airport",
          "Ithaca Tompkins Regional Airport",
          "Hilo International Airport",
          "West Houston Airport",
          "Inyokern Airport",
          "Jackson Hole Airport",
          "Jackson-Medgar Wiley Evers International Airport",
          "Jasper County Airport-Bell Field",
          "Jacksonville International Airport",
          "Jonesboro Municipal Airport",
          "New Century Aircenter Airport",
          "Kimble County Airport",
          "Jefferson City Memorial Airport",
          "John F Kennedy International Airport",
          "Kapalua Airport",
          "Chautauqua County-Jamestown Airport",
          "Joplin Regional Airport",
          "Jamestown Regional Airport",
          "Juneau International Airport",
          "Joliet Regional Airport",
          "West 30th St. Heliport",
          "Downtown-Manhattan/Wall St Heliport",
          "Kalaeloa Airport",
          "John Murtha Johnstown Cambria County Airport",
          "Southern Wisconsin Regional Airport",
          "Jackson County Reynolds Field",
          "Kaltag Airport",
          "False Pass Airport",
          "Koliganek Airport",
          "Koyuk Alfred Adams Airport",
          "Kongiganak Airport",
          "Kalskag Airport",
          "Larsen Bay Airport",
          "Southwest Washington Regional Airport",
          "Klawock Airport",
          "Manokotak Airport",
          "New Stuyahok Airport",
          "Ellison Onizuka Kona International At Keahole Airport",
          "Kotlik Airport",
          "Port Clarence Coast Guard Station",
          "Kipnuk Airport",
          "Perryville Airport",
          "Akutan Seaplane Base",
          "St Mary's Airport",
          "Ketchikan International Airport",
          "Brevig Mission Airport",
          "Kasigluk Airport",
          "King Cove Airport",
          "Kivalina Airport",
          "Kwigillingok Airport",
          "Quinhagak Airport",
          "Kwethluk Airport",
          "Karluk Airport",
          "Koyukuk Airport",
          "Lamar Municipal Airport",
          "Purdue University Airport",
          "Lakeland Linder International Airport",
          "Los Alamos Airport",
          "Capital City Airport",
          "Laramie Regional Airport",
          "McCarran International Airport",
          "Lawton Fort Sill Regional Airport",
          "Los Angeles International Airport",
          "Lubbock Preston Smith International Airport",
          "Arnold Palmer Regional Airport",
          "North Platte Regional Airport Lee Bird Field",
          "Liberal Mid-America Regional Airport",
          "Lumberton Regional Airport",
          "Lake Charles Regional Airport",
          "Rickenbacker International Airport",
          "Lake City Gateway Airport",
          "Linden Airport",
          "Mason County Airport",
          "Lebanon Municipal Airport",
          "Leesburg International Airport",
          "Auburn Lewiston Municipal Airport",
          "Blue Grass Airport",
          "Langley Air Force Base",
          "Angelina County Airport",
          "Lafayette Regional Airport",
          "La Guardia Airport",
          "Long Beach /Daugherty Field/ Airport",
          "LaGrange Callaway Airport",
          "La Grande/Union County Airport",
          "Logan-Cache Airport",
          "William T. Piper Memorial Airport",
          "Lihue Airport",
          "Bill & Hillary Clinton National Airport/Adams Field",
          "Wright AAF (Fort Stewart)/Midcoast Regional Airport",
          "Texas Gulf Coast Regional Airport",
          "Lake Placid Airport",
          "Lake County Airport",
          "South Jersey Regional Airport",
          "Minchumina Airport",
          "Crater Lake-Klamath Regional Airport",
          "Palm Beach County Park Airport",
          "Lincoln Airport",
          "Willoughby Lost Nation Municipal Airport",
          "Tri-County Regional Airport",
          "Lancaster Airport",
          "Lanai Airport",
          "Derby Field",
          "Lewis University Airport",
          "Bowman Field",
          "London-Corbin Airport/Magee Field",
          "Lompoc Airport",
          "Lopez Island Airport",
          "Laredo International Airport",
          "Little Rock Air Force Base",
          "Las Cruces International Airport",
          "La Crosse Municipal Airport",
          "Lawson Army Air Field (Fort Benning)",
          "Nellis Air Force Base",
          "Altus Air Force Base",
          "Luke Air Force Base",
          "Cincinnati Municipal Airport Lunken Field",
          "Kalaupapa Airport",
          "Cape Lisburne LRRS Airport",
          "Livermore Municipal Airport",
          "Mission Field",
          "Las Vegas Municipal Airport",
          "Greenbrier Valley Airport",
          "Lawrence Municipal Airport",
          "Lawrence Municipal Airport",
          "Lewiston Nez Perce County Airport",
          "Lewistown Municipal Airport",
          "Jim Kelly Field",
          "Lynchburg Regional Preston Glenn Field",
          "Ely Municipal Airport",
          "Gwinnett County Briscoe Field",
          "Madera Municipal Airport",
          "Midland International Airport",
          "Mobridge Municipal Airport",
          "Manistee Co Blacker Airport",
          "MBS International Airport",
          "Mc Comb/Pike County Airport/John E Lewis Field",
          "Mc Clellan Airfield",
          "Merced Regional Macready Field",
          "Mac Dill Air Force Base",
          "McGrath Airport",
          "Kansas City International Airport",
          "Mc Cook Ben Nelson Regional Airport",
          "McKinley National Park Airport",
          "Middle Georgia Regional Airport",
          "Orlando International Airport",
          "Mason City Municipal Airport",
          "Southern Illinois Airport",
          "Harrisburg International Airport",
          "Chicago Midway International Airport",
          "Key Field",
          "Memphis International Airport",
          "Dare County Regional Airport",
          "Castle Airport",
          "Mansfield Lahm Regional Airport",
          "Mc Allen Miller International Airport",
          "Marshfield Municipal Airport",
          "Rogue Valley International Medford Airport",
          "Michigan City Municipal Airport",
          "Dobbins Air Reserve Base",
          "Orange County Airport",
          "Montgomery Regional (Dannelly Field) Airport",
          "Morgantown Municipal Walter L. Bill Hart Field",
          "Dayton-Wright Brothers Airport",
          "Mitchell Municipal Airport",
          "Manhattan Regional Airport",
          "Sacramento Mather Airport",
          "Manchester-Boston Regional Airport",
          "Mojave Airport",
          "Miami International Airport",
          "Minot Air Force Base",
          "Delaware County Johnson Field",
          "Millville Municipal Airport",
          "Charles B. Wheeler Downtown Airport",
          "General Mitchell International Airport",
          "Muskegon County Airport",
          "Molokai Airport",
          "McKellar-Sipes Regional Airport",
          "Melbourne International Airport",
          "Mc Alester Regional Airport",
          "Quad City International Airport",
          "Marshall Don Hunter Sr Airport",
          "Frank Wiley Field",
          "Monroe Regional Airport",
          "Manley Hot Springs Airport",
          "Mammoth Yosemite Airport",
          "McMinn County Airport",
          "Mc Entire Joint National Guard Base",
          "Morristown Municipal Airport",
          "Menominee Regional Airport",
          "Manassas Regional Airport/Harry P. Davis Field",
          "Mobile Regional Airport",
          "Modesto City Co-Harry Sham Field",
          "Minot International Airport",
          "Mountain Village Airport",
          "Pocono Mountains Municipal Airport",
          "Edward F Knapp State Airport",
          "Sawyer International Airport",
          "Smyrna Airport",
          "Eastern WV Regional Airport/Shepherd Field",
          "Marfa Municipal Airport",
          "Merrill Field",
          "Marco Island Executive Airport",
          "Foothills Regional Airport",
          "Monterey Peninsula Airport",
          "Falcon Field",
          "Northwest Alabama Regional Airport",
          "Dane County Regional Truax Field",
          "Missoula International Airport",
          "Minneapolis-St Paul International/Wold-Chamberlain Airport",
          "Massena International Richards Field",
          "Louis Armstrong New Orleans International Airport",
          "Selfridge Air National Guard Base Airport",
          "The Florida Keys Marathon Airport",
          "Montrose Regional Airport",
          "Metlakatla Seaplane Base",
          "Martin State Airport",
          "Montauk Airport",
          "Waimea Kohala Airport",
          "Muir Army Air Field (Fort Indiantown Gap) Airport",
          "Mountain Home Air Force Base",
          "Morrisville Stowe State Airport",
          "Skagit Regional Airport",
          "Martha's Vineyard Airport",
          "Williamson County Regional Airport",
          "Lawrence J Timmerman Airport",
          "Grant County International Airport",
          "Mineral Wells Airport",
          "Maxwell Air Force Base",
          "McCall Municipal Airport",
          "Myrtle Beach International Airport",
          "Mekoryuk Airport",
          "Yuba County Airport",
          "Pinal Airpark",
          "New Orleans NAS JRB/Alvin Callender Field",
          "Chenega Bay Airport",
          "Quonset State Airport",
          "Lakehurst Maxfield Field Airport",
          "Lakefront Airport",
          "Fallon Naval Air Station",
          "Kaneohe Bay MCAS (Marion E. Carl Field) Airport",
          "Norfolk Naval Station (Chambers Field)",
          "Alameda Naval Air Station",
          "Patuxent River Naval Air Station (Trapnell Field)",
          "Brunswick Executive Airport",
          "Nikolai Airport",
          "Jacksonville Naval Air Station (Towers Field)",
          "El Centro NAF Airport (Vraciu Field)",
          "Miramar Marine Corps Air Station - Mitscher Field",
          "Lemoore Naval Air Station (Reeves Field) Airport",
          "Nelson Lagoon Airport",
          "Nightmute Airport",
          "Nondalton Airport",
          "Marin County Airport - Gnoss Field",
          "Pensacola Naval Air Station/Forrest Sherman Field",
          "Millington-Memphis Airport",
          "Kingsville Naval Air Station",
          "Naval Air Station Key West/Boca Chica Field",
          "Naval Station Mayport (Admiral David L. Mcdonald Field)",
          "Whiting Field Naval Air Station - North",
          "Point Mugu Naval Air Station (Naval Base Ventura Co)",
          "Oceana Naval Air Station",
          "Nuiqsut Airport",
          "Nulato Airport",
          "Moffett Federal Airfield",
          "Whidbey Island Naval Air Station (Ault Field)",
          "Willow Grove Naval Air Station/Joint Reserve Base",
          "El Toro Marine Corps Air Station",
          "North Island Naval Air Station-Halsey Field",
          "Albert J Ellis Airport",
          "Metropolitan Oakland International Airport",
          "Marina Municipal Airport",
          "Okeechobee County Airport",
          "Kobuk Airport",
          "Ocean Reef Club Airport",
          "Ocala International Airport - Jim Taylor Field",
          "Warren Field",
          "Oryol Yuzhny Airport",
          "Offutt Air Force Base",
          "Karl Stefan Memorial Airport",
          "Orangeburg Municipal Airport",
          "Ogden Hinckley Airport",
          "Kahului Airport",
          "Ogdensburg International Airport",
          "Johnson County Executive Airport",
          "Will Rogers World Airport",
          "Kokomo Municipal Airport",
          "Okmulgee Regional Airport",
          "L M Clayton Airport",
          "Olympia Regional Airport",
          "Nogales International Airport",
          "Olive Branch Airport",
          "Eppley Airfield",
          "Nome Airport",
          "Ontario Municipal Airport",
          "Newport Municipal Airport",
          "Ontario International Airport",
          "Toksook Bay Airport",
          "Opa-locka Executive Airport",
          "Chicago O'Hare International Airport",
          "Norfolk International Airport",
          "Worcester Regional Airport",
          "Orlando Executive Airport",
          "Northway Airport",
          "Robert (Bob) Curtis Memorial Airport",
          "Oscoda Wurtsmith Airport",
          "Wittman Regional Airport",
          "The Ohio State University Airport - Don Scott Field",
          "Southwest Oregon Regional Airport",
          "Tillamook Airport",
          "Ottumwa Regional Airport",
          "Ralph Wien Memorial Airport",
          "Owensboro Daviess County Airport",
          "Norwood Memorial Airport",
          "Waterbury Oxford Airport",
          "Oxnard Airport",
          "Ozona Municipal Airport",
          "Cairns AAF (Fort Rucker) Air Field",
          "Snohomish County (Paine Field) Airport",
          "Barkley Regional Airport",
          "Tyndall Air Force Base",
          "Palo Alto Airport of Santa Clara County",
          "Warren \"\"Bud\"\" Woods Palmer Municipal Airport",
          "Pine Bluff Regional Airport, Grider Field",
          "Plattsburgh International Airport",
          "Palm Beach International Airport",
          "Prairie Du Chien Municipal Airport",
          "DeKalb Peachtree Airport",
          "Eastern Oregon Regional At Pendleton Airport",
          "Portland International Airport",
          "Pecos Municipal Airport",
          "Panama City-Bay Co International Airport",
          "Page Municipal Airport",
          "Charlotte County Airport",
          "Pitt Greenville Airport",
          "Harry Clever Field",
          "Newport News Williamsburg International Airport",
          "Palm Beach County Glades Airport",
          "Philadelphia International Airport",
          "St Clair County International Airport",
          "Phoenix Sky Harbor International Airport",
          "General Wayne A. Downing Peoria International Airport",
          "Hattiesburg Laurel Regional Airport",
          "St Petersburg Clearwater International Airport",
          "Pocatello Regional Airport",
          "Harris County Airport",
          "Pilot Point Airport",
          "Pierre Regional Airport",
          "Pittsburgh International Airport",
          "Point Lay LRRS Airport",
          "Napaskiak Airport",
          "Mid Ohio Valley Regional Airport",
          "Pellston Regional Airport of Emmet County Airport",
          "Pembina Municipal Airport",
          "Palmdale Regional/USAF Plant 42 Airport",
          "Greater Portsmouth Regional Airport",
          "Port Moller Airport",
          "Ponca City Regional Airport",
          "Northeast Philadelphia Airport",
          "Pensacola Regional Airport",
          "Pope Field",
          "Brackett Field",
          "Polk Army Air Field",
          "Poplar Bluff Municipal Airport",
          "Dutchess County Airport",
          "Perry Lefors Field",
          "Prospect Creek Airport",
          "Tri-City Airport",
          "Pompano Beach Airpark",
          "Northern Maine Regional Airport at Presque Isle",
          "Paso Robles Municipal Airport",
          "Ernest A. Love Field",
          "Cox Field",
          "Prineville Airport",
          "Tri Cities Airport",
          "Petersburg James A Johnson Airport",
          "Portsmouth International at Pease Airport",
          "Palm Springs International Airport",
          "Palacios Municipal Airport",
          "Port Alsworth Airport",
          "Dinwiddie County Airport",
          "Port Heiden Airport",
          "Oakland County International Airport",
          "Pratt Regional Airport",
          "Platinum Airport",
          "Pueblo Memorial Airport",
          "Carbon County Regional/Buck Davis Field",
          "Pullman Moscow Regional Airport",
          "Provincetown Municipal Airport",
          "Theodore Francis Green State Airport",
          "Pike County-Hatcher Field",
          "Provo Municipal Airport",
          "Wiley Post Airport",
          "Chicago Executive Airport",
          "Portland International Jetport Airport",
          "Bremerton National Airport",
          "Ralph Wenz Field",
          "Plymouth Municipal Airport",
          "John H Batten Airport",
          "Riverside Municipal Airport",
          "Rapid City Regional Airport",
          "Dallas Executive Airport",
          "French Valley Airport",
          "Red Bluff Municipal Airport",
          "Ruby Airport",
          "Ellsworth Air Force Base",
          "Red Dog Airport",
          "Redding Municipal Airport",
          "Reading Regional Carl A Spaatz Field",
          "Roberts Field",
          "Grand Forks Air Force Base",
          "Raleigh Durham International Airport",
          "Chicago Rockford International Airport",
          "Rhinelander Oneida County Airport",
          "Reid-Hillview Airport of Santa Clara County",
          "Richmond International Airport",
          "Garfield County Regional Airport",
          "March ARB Airport",
          "Riverton Regional Airport",
          "Knox County Regional Airport",
          "Rock Hill - York County Airport",
          "Aransas County Airport",
          "Southwest Wyoming Regional Airport",
          "Griffiss International Airport",
          "Richard B Russell Airport",
          "Mariposa Yosemite Airport",
          "Randolph Air Force Base",
          "Reno Tahoe International Airport",
          "Renton Municipal Airport",
          "Jasper County Airport",
          "Roanoke–Blacksburg Regional Airport",
          "Greater Rochester International Airport",
          "Roswell International Air Center Airport",
          "Russian Mission Airport",
          "Russell Municipal Airport",
          "Rochester International Airport",
          "Southwest Florida International Airport",
          "Raton Municipal-Crews Field",
          "Sierra Blanca Regional Airport",
          "Rutland - Southern Vermont Regional Airport",
          "Richard Lloyd Jones Jr Airport",
          "Redwood Falls Municipal Airport",
          "Rocky Mount Wilson Regional Airport",
          "Rawlins Municipal Airport/Harvey Field",
          "Shively Field",
          "Sacramento Executive Airport",
          "Safford Regional Airport",
          "Santa Fe Municipal Airport",
          "San Diego International Airport",
          "San Antonio International Airport",
          "Savannah Hilton Head International Airport",
          "Santa Barbara Municipal Airport",
          "San Bernardino International Airport",
          "Sheboygan County Memorial Airport",
          "South Bend Regional Airport",
          "San Luis County Regional Airport",
          "Steamboat Springs Bob Adams Field",
          "Salisbury Ocean City Wicomico Regional Airport",
          "Deadhorse Airport",
          "University Park Airport",
          "Scottsdale Airport",
          "Schenectady County Airport",
          "Stockton Metropolitan Airport",
          "Scammon Bay Airport",
          "Louisville International Standiford Field",
          "Brown Field Municipal Airport",
          "Sand Point Airport",
          "Sedona Airport",
          "Sidney - Richland Regional Airport",
          "Seattle Tacoma International Airport",
          "Gillespie Field",
          "Sebring Regional Airport",
          "Craig Field",
          "Stephenville Clark Regional Airport",
          "Orlando Sanford International Airport",
          "Felts Field",
          "San Francisco International Airport",
          "North Central State Airport",
          "Springfield Branson National Airport",
          "Springfield-Beckley Municipal Airport",
          "Sugar Land Regional Airport",
          "St George Municipal Airport",
          "Skagway Airport",
          "Shenandoah Valley Regional Airport",
          "Shungnak Airport",
          "Shishmaref Airport",
          "Sanderson Field",
          "Sheridan County Airport",
          "Shreveport Regional Airport",
          "Shageluk Airport",
          "Sikeston Memorial Municipal Airport",
          "Sitka Rocky Gutierrez Airport",
          "Norman Y. Mineta San Jose International Airport",
          "San Angelo Regional Mathis Field",
          "Fairchild Air Force Base",
          "Lackland Air Force Base",
          "Shaktoolik Airport",
          "Griffing Sandusky Airport",
          "Salt Lake City International Airport",
          "Salem Municipal Airport/McNary Field",
          "Adirondack Regional Airport",
          "Salina Municipal Airport",
          "Sleetmute Airport",
          "Smith Field",
          "Lake Cumberland Regional Airport",
          "Sacramento International Airport",
          "St Michael Airport",
          "Lemhi County Airport",
          "Santa Monica Municipal Airport",
          "Santa Maria Pub/Capt G Allan Hancock Field",
          "John Wayne Airport-Orange County Airport",
          "St Paul Island Airport",
          "Salinas Municipal Airport",
          "Sidney Municipal-Lloyd W Carr Field",
          "Moore County Airport",
          "Seldovia Airport",
          "Show Low Regional Airport",
          "Spartanburg Downtown Memorial Airport",
          "Black Hills Airport-Clyde Ice Field",
          "Albert Whitted Airport",
          "Abraham Lincoln Capital Airport",
          "Sheppard Air Force Base-Wichita Falls Municipal Airport",
          "Spencer Municipal Airport",
          "Santa Ynez Airport",
          "San Carlos Airport",
          "Sarasota Bradenton International Airport",
          "Shaw Air Force Base",
          "Stinson Municipal Airport",
          "Malcolm McKinnon Airport",
          "St Cloud Regional Airport",
          "Stevens Point Municipal Airport",
          "St George Airport",
          "Rosecrans Memorial Airport",
          "Sterling Municipal Airport",
          "St Louis Lambert International Airport",
          "St Paul Downtown Holman Field",
          "Charles M. Schulz Sonoma County Airport",
          "Witham Field",
          "Friedman Memorial Airport",
          "Spirit of St Louis Airport",
          "Travis Air Force Base",
          "Sioux Gateway Col. Bud Day Field",
          "Savoonga Airport",
          "Statesville Regional Airport",
          "Hunter Army Air Field",
          "Sparrevohn LRRS Airport",
          "Seward Airport",
          "Stewart International Airport",
          "Stillwater Regional Airport",
          "Soldotna Airport",
          "Eareckson Air Station",
          "Syracuse Hancock International Airport",
          "Whiteman Air Force Base",
          "Waynesville-St. Robert Regional Forney field",
          "Statesboro Bulloch County Airport",
          "Tucumcari Municipal Airport",
          "Tuscaloosa Regional Airport",
          "McChord Air Force Base",
          "Truth Or Consequences Municipal Airport",
          "Teterboro Airport",
          "Telluride Regional Airport",
          "Tinker Air Force Base",
          "Tacoma Narrows Airport",
          "Space Coast Regional Airport",
          "Talkeetna Airport",
          "Truckee Tahoe Airport",
          "Tok Junction Airport",
          "Teller Airport",
          "Tallahassee Regional Airport",
          "Tatalina LRRS Airport",
          "Henry Tift Myers Airport",
          "Kendall-Tamiami Executive Airport",
          "Tin City Long Range Radar Station Airport",
          "Dade Collier Training and Transition Airport",
          "Zamperini Field",
          "Toccoa Airport - R.G. Letourneau Field",
          "Togiak Airport",
          "Troy Municipal Airport at N Kenneth Campbell Field",
          "Toledo Express Airport",
          "Philip Billard Municipal Airport",
          "Tampa International Airport",
          "Peter O Knight Airport",
          "Tonopah Airport",
          "Draughon Miller Central Texas Regional Airport",
          "Tri-Cities Regional TN/VA Airport",
          "Jacqueline Cochran Regional Airport",
          "Taos Regional Airport",
          "Portland Troutdale Airport",
          "Trenton Mercer Airport",
          "Tulsa International Airport",
          "Tupelo Regional Airport",
          "Tucson International Airport",
          "Cherry Capital Airport",
          "Thief River Falls Regional Airport",
          "Thomasville Regional Airport",
          "Lake Tahoe Airport",
          "Joslin Field Magic Valley Regional Airport",
          "Texarkana Regional Webb Field",
          "Tyler Pounds Regional Airport",
          "McGhee Tyson Airport",
          "Taszár Air Base",
          "Bermuda Dunes Airport",
          "Waukegan National Airport",
          "Quincy Regional Baldwin Field",
          "Ukiah Municipal Airport",
          "Quakertown Airport",
          "Unalakleet Airport",
          "Franklin County Airport",
          "University Oxford Airport",
          "Upolu Airport",
          "Concord-Padgett Regional Airport",
          "Northeast Florida Regional Airport",
          "Tunica Municipal Airport",
          "Indian Mountain LRRS Airport",
          "Ugnu-Kuparuk Airport",
          "Garner Field",
          "Moody Air Force Base",
          "Chevak Airport",
          "Vandenberg Air Force Base",
          "Victoria Regional Airport",
          "Southern California Logistics Airport",
          "Vidalia Regional Airport",
          "Valdez Pioneer Field",
          "Venetie Airport",
          "Vernal Regional Airport",
          "North Las Vegas Airport",
          "Visalia Municipal Airport",
          "Valdosta Regional Airport",
          "Venice Municipal Airport",
          "Van Nuys Airport",
          "Volk Field",
          "Destin-Ft Walton Beach Airport",
          "Porter County Municipal Airport",
          "Cecil Airport",
          "Vero Beach Regional Airport",
          "Miller Field",
          "Illinois Valley Regional Airport-Walter A Duncan Field",
          "Wales Airport",
          "Wallops Flight Facility Airport",
          "Beaver Airport",
          "Boulder Municipal Airport",
          "Wilkes Barre Wyoming Valley Airport",
          "Barrow County Airport",
          "Northern Aroostook Regional Airport",
          "Whiteman Airport",
          "General WM J Fox Airfield",
          "Aleknagik / New Airport",
          "Waikoloa Heliport",
          "Strother Field",
          "Selawik Airport",
          "Winnemucca Municipal Airport",
          "Ozark Regional Airport",
          "White Mountain Airport",
          "Napakiak Airport",
          "Robins Air Force Base",
          "Wrangell Airport",
          "Mc Guire Air Force Base",
          "Worland Municipal Airport",
          "Condron Army Air Field",
          "South Naknek Nr 2 Airport",
          "Westerly State Airport",
          "Noatak Airport",
          "Watsonville Municipal Airport",
          "Wasilla Airport",
          "Cape May County Airport",
          "West Woodward Airport",
          "Yellowstone Airport",
          "Northwest Arkansas Regional Airport",
          "Tonopah Test Range Airport",
          "Yakutat Airport",
          "Willow Run Airport",
          "Yakima Air Terminal McAllister Field",
          "Chan Gurney Municipal Airport",
          "Youngstown Warren Regional Airport",
          "Yuma MCAS/Yuma International Airport",
          "Zephyrhills Municipal Airport",
          "Zanesville Municipal Airport"
         ],
         "lat": {
          "bdata": "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",
          "dtype": "f8"
         },
         "legendgroup": "",
         "lon": {
          "bdata": "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",
          "dtype": "f8"
         },
         "marker": {
          "color": "#636efa",
          "opacity": 0.5,
          "symbol": "circle"
         },
         "mode": "markers",
         "name": "",
         "showlegend": false,
         "type": "scattergeo"
        },
        {
         "lat": [
          40.692501068115234,
          42.36429977
         ],
         "line": {
          "color": "blue",
          "width": 2
         },
         "lon": [
          -74.168701171875,
          -71.00520325
         ],
         "mode": "lines",
         "type": "scattergeo"
        },
        {
         "lat": [
          40.692501068115234,
          37.61899948120117
         ],
         "line": {
          "color": "blue",
          "width": 2
         },
         "lon": [
          -74.168701171875,
          -122.375
         ],
         "mode": "lines",
         "type": "scattergeo"
        },
        {
         "lat": [
          40.692501068115234,
          35.2140007019043
         ],
         "line": {
          "color": "blue",
          "width": 2
         },
         "lon": [
          -74.168701171875,
          -80.94309997558594
         ],
         "mode": "lines",
         "type": "scattergeo"
        },
        {
         "lat": [
          40.692501068115234,
          37.721298
         ],
         "line": {
          "color": "blue",
          "width": 2
         },
         "lon": [
          -74.168701171875,
          -122.221001
         ],
         "mode": "lines",
         "type": "scattergeo"
        },
        {
         "lat": [
          40.692501068115234,
          25.79319953918457
         ],
         "line": {
          "color": "blue",
          "width": 2
         },
         "lon": [
          -74.168701171875,
          -80.29060363769531
         ],
         "mode": "lines",
         "type": "scattergeo"
        },
        {
         "lat": [
          40.692501068115234,
          28.429399490356445
         ],
         "line": {
          "color": "blue",
          "width": 2
         },
         "lon": [
          -74.168701171875,
          -81.30899810791016
         ],
         "mode": "lines",
         "type": "scattergeo"
        },
        {
         "lat": [
          40.692501068115234,
          26.072599
         ],
         "line": {
          "color": "blue",
          "width": 2
         },
         "lon": [
          -74.168701171875,
          -80.152702
         ],
         "mode": "lines",
         "type": "scattergeo"
        },
        {
         "lat": [
          40.692501068115234,
          33.94250107
         ],
         "line": {
          "color": "blue",
          "width": 2
         },
         "lon": [
          -74.168701171875,
          -118.4079971
         ],
         "mode": "lines",
         "type": "scattergeo"
        },
        {
         "lat": [
          40.692501068115234,
          33.6367
         ],
         "line": {
          "color": "blue",
          "width": 2
         },
         "lon": [
          -74.168701171875,
          -84.428101
         ],
         "mode": "lines",
         "type": "scattergeo"
        },
        {
         "lat": [
          40.692501068115234,
          39.861698150635
         ],
         "line": {
          "color": "blue",
          "width": 2
         },
         "lon": [
          -74.168701171875,
          -104.672996521
         ],
         "mode": "lines",
         "type": "scattergeo"
        },
        {
         "lat": [
          40.692501068115234,
          41.9786
         ],
         "line": {
          "color": "blue",
          "width": 2
         },
         "lon": [
          -74.168701171875,
          -87.9048
         ],
         "mode": "lines",
         "type": "scattergeo"
        },
        {
         "lat": [
          40.692501068115234,
          42.212398529052734
         ],
         "line": {
          "color": "blue",
          "width": 2
         },
         "lon": [
          -74.168701171875,
          -83.35340118408203
         ],
         "mode": "lines",
         "type": "scattergeo"
        },
        {
         "lat": [
          40.692501068115234,
          38.94449997
         ],
         "line": {
          "color": "blue",
          "width": 2
         },
         "lon": [
          -74.168701171875,
          -77.45580292
         ],
         "mode": "lines",
         "type": "scattergeo"
        },
        {
         "lat": [
          40.692501068115234,
          29.984399795532227
         ],
         "line": {
          "color": "blue",
          "width": 2
         },
         "lon": [
          -74.168701171875,
          -95.34140014648438
         ],
         "mode": "lines",
         "type": "scattergeo"
        },
        {
         "lat": [
          40.692501068115234,
          26.68320083618164
         ],
         "line": {
          "color": "blue",
          "width": 2
         },
         "lon": [
          -74.168701171875,
          -80.09559631347656
         ],
         "mode": "lines",
         "type": "scattergeo"
        },
        {
         "lat": [
          40.692501068115234,
          44.882
         ],
         "line": {
          "color": "blue",
          "width": 2
         },
         "lon": [
          -74.168701171875,
          -93.221802
         ],
         "mode": "lines",
         "type": "scattergeo"
        },
        {
         "lat": [
          40.692501068115234,
          41.4117012024
         ],
         "line": {
          "color": "blue",
          "width": 2
         },
         "lon": [
          -74.168701171875,
          -81.8498001099
         ],
         "mode": "lines",
         "type": "scattergeo"
        },
        {
         "lat": [
          40.692501068115234,
          30.49410057067871
         ],
         "line": {
          "color": "blue",
          "width": 2
         },
         "lon": [
          -74.168701171875,
          -81.68789672851562
         ],
         "mode": "lines",
         "type": "scattergeo"
        },
        {
         "lat": [
          40.692501068115234,
          27.975500106811523
         ],
         "line": {
          "color": "blue",
          "width": 2
         },
         "lon": [
          -74.168701171875,
          -82.533203125
         ],
         "mode": "lines",
         "type": "scattergeo"
        },
        {
         "lat": [
          40.692501068115234,
          32.896801
         ],
         "line": {
          "color": "blue",
          "width": 2
         },
         "lon": [
          -74.168701171875,
          -97.038002
         ],
         "mode": "lines",
         "type": "scattergeo"
        },
        {
         "lat": [
          40.692501068115234,
          30.194499969482425
         ],
         "line": {
          "color": "blue",
          "width": 2
         },
         "lon": [
          -74.168701171875,
          -97.6698989868164
         ],
         "mode": "lines",
         "type": "scattergeo"
        },
        {
         "lat": [
          40.692501068115234,
          27.39539909362793
         ],
         "line": {
          "color": "blue",
          "width": 2
         },
         "lon": [
          -74.168701171875,
          -82.55439758300781
         ],
         "mode": "lines",
         "type": "scattergeo"
        },
        {
         "lat": [
          40.692501068115234,
          32.7336006165
         ],
         "line": {
          "color": "blue",
          "width": 2
         },
         "lon": [
          -74.168701171875,
          -117.190002441
         ],
         "mode": "lines",
         "type": "scattergeo"
        },
        {
         "lat": [
          40.692501068115234,
          32.89860153
         ],
         "line": {
          "color": "blue",
          "width": 2
         },
         "lon": [
          -74.168701171875,
          -80.04049683
         ],
         "mode": "lines",
         "type": "scattergeo"
        },
        {
         "lat": [
          40.692501068115234,
          47.449001
         ],
         "line": {
          "color": "blue",
          "width": 2
         },
         "lon": [
          -74.168701171875,
          -122.308998
         ],
         "mode": "lines",
         "type": "scattergeo"
        },
        {
         "lat": [
          40.692501068115234,
          45.58869934
         ],
         "line": {
          "color": "blue",
          "width": 2
         },
         "lon": [
          -74.168701171875,
          -122.5979996
         ],
         "mode": "lines",
         "type": "scattergeo"
        },
        {
         "lat": [
          40.692501068115234,
          33.43429946899414
         ],
         "line": {
          "color": "blue",
          "width": 2
         },
         "lon": [
          -74.168701171875,
          -112.01200103759766
         ],
         "mode": "lines",
         "type": "scattergeo"
        },
        {
         "lat": [
          40.692501068115234,
          33.67570114
         ],
         "line": {
          "color": "blue",
          "width": 2
         },
         "lon": [
          -74.168701171875,
          -117.8679962
         ],
         "mode": "lines",
         "type": "scattergeo"
        },
        {
         "lat": [
          40.692501068115234,
          29.99340057373047
         ],
         "line": {
          "color": "blue",
          "width": 2
         },
         "lon": [
          -74.168701171875,
          -90.25800323486328
         ],
         "mode": "lines",
         "type": "scattergeo"
        },
        {
         "lat": [
          40.692501068115234,
          42.94720077514648
         ],
         "line": {
          "color": "blue",
          "width": 2
         },
         "lon": [
          -74.168701171875,
          -87.89659881591797
         ],
         "mode": "lines",
         "type": "scattergeo"
        },
        {
         "lat": [
          40.692501068115234,
          40.78839874267578
         ],
         "line": {
          "color": "blue",
          "width": 2
         },
         "lon": [
          -74.168701171875,
          -111.97799682617188
         ],
         "mode": "lines",
         "type": "scattergeo"
        },
        {
         "lat": [
          40.692501068115234,
          42.88079834
         ],
         "line": {
          "color": "blue",
          "width": 2
         },
         "lon": [
          -74.168701171875,
          -85.52279663
         ],
         "mode": "lines",
         "type": "scattergeo"
        },
        {
         "lat": [
          40.692501068115234,
          32.12760162
         ],
         "line": {
          "color": "blue",
          "width": 2
         },
         "lon": [
          -74.168701171875,
          -81.20210266
         ],
         "mode": "lines",
         "type": "scattergeo"
        },
        {
         "lat": [
          40.692501068115234,
          42.94049835
         ],
         "line": {
          "color": "blue",
          "width": 2
         },
         "lon": [
          -74.168701171875,
          -78.73220062
         ],
         "mode": "lines",
         "type": "scattergeo"
        },
        {
         "lat": [
          40.692501068115234,
          44.4719009399
         ],
         "line": {
          "color": "blue",
          "width": 2
         },
         "lon": [
          -74.168701171875,
          -73.15329742429999
         ],
         "mode": "lines",
         "type": "scattergeo"
        },
        {
         "lat": [
          40.692501068115234,
          35.877601623535156
         ],
         "line": {
          "color": "blue",
          "width": 2
         },
         "lon": [
          -74.168701171875,
          -78.7874984741211
         ],
         "mode": "lines",
         "type": "scattergeo"
        },
        {
         "lat": [
          40.692501068115234,
          39.7173
         ],
         "line": {
          "color": "blue",
          "width": 2
         },
         "lon": [
          -74.168701171875,
          -86.294403
         ],
         "mode": "lines",
         "type": "scattergeo"
        },
        {
         "lat": [
          40.692501068115234,
          36.1245002746582
         ],
         "line": {
          "color": "blue",
          "width": 2
         },
         "lon": [
          -74.168701171875,
          -86.6781997680664
         ],
         "mode": "lines",
         "type": "scattergeo"
        },
        {
         "lat": [
          40.692501068115234,
          40.49150085
         ],
         "line": {
          "color": "blue",
          "width": 2
         },
         "lon": [
          -74.168701171875,
          -80.23290253
         ],
         "mode": "lines",
         "type": "scattergeo"
        },
        {
         "lat": [
          40.692501068115234,
          37.50519943237305
         ],
         "line": {
          "color": "blue",
          "width": 2
         },
         "lon": [
          -74.168701171875,
          -77.3197021484375
         ],
         "mode": "lines",
         "type": "scattergeo"
        },
        {
         "lat": [
          40.692501068115234,
          36.08010101
         ],
         "line": {
          "color": "blue",
          "width": 2
         },
         "lon": [
          -74.168701171875,
          -115.1520004
         ],
         "mode": "lines",
         "type": "scattergeo"
        },
        {
         "lat": [
          40.692501068115234,
          21.32062
         ],
         "line": {
          "color": "blue",
          "width": 2
         },
         "lon": [
          -74.168701171875,
          -157.924228
         ],
         "mode": "lines",
         "type": "scattergeo"
        },
        {
         "lat": [
          40.692501068115234,
          43.118900299072266
         ],
         "line": {
          "color": "blue",
          "width": 2
         },
         "lon": [
          -74.168701171875,
          -77.67240142822266
         ],
         "mode": "lines",
         "type": "scattergeo"
        },
        {
         "lat": [
          40.692501068115234,
          33.6796989441
         ],
         "line": {
          "color": "blue",
          "width": 2
         },
         "lon": [
          -74.168701171875,
          -78.9282989502
         ],
         "mode": "lines",
         "type": "scattergeo"
        },
        {
         "lat": [
          40.692501068115234,
          29.533700942993164
         ],
         "line": {
          "color": "blue",
          "width": 2
         },
         "lon": [
          -74.168701171875,
          -98.46980285644533
         ],
         "mode": "lines",
         "type": "scattergeo"
        },
        {
         "lat": [
          40.692501068115234,
          32.2243995667
         ],
         "line": {
          "color": "blue",
          "width": 2
         },
         "lon": [
          -74.168701171875,
          -80.6975021362
         ],
         "mode": "lines",
         "type": "scattergeo"
        },
        {
         "lat": [
          40.692501068115234,
          42.74829864501953
         ],
         "line": {
          "color": "blue",
          "width": 2
         },
         "lon": [
          -74.168701171875,
          -73.80169677734375
         ],
         "mode": "lines",
         "type": "scattergeo"
        },
        {
         "lat": [
          40.692501068115234,
          39.2976
         ],
         "line": {
          "color": "blue",
          "width": 2
         },
         "lon": [
          -74.168701171875,
          -94.713898
         ],
         "mode": "lines",
         "type": "scattergeo"
        },
        {
         "lat": [
          40.692501068115234,
          35.43619918823242
         ],
         "line": {
          "color": "blue",
          "width": 2
         },
         "lon": [
          -74.168701171875,
          -82.54180145263672
         ],
         "mode": "lines",
         "type": "scattergeo"
        },
        {
         "lat": [
          40.692501068115234,
          38.748697
         ],
         "line": {
          "color": "blue",
          "width": 2
         },
         "lon": [
          -74.168701171875,
          -90.370003
         ],
         "mode": "lines",
         "type": "scattergeo"
        },
        {
         "lat": [
          40.692501068115234,
          43.64619827
         ],
         "line": {
          "color": "blue",
          "width": 2
         },
         "lon": [
          -74.168701171875,
          -70.30930328
         ],
         "mode": "lines",
         "type": "scattergeo"
        },
        {
         "lat": [
          40.692501068115234,
          36.89459991455078
         ],
         "line": {
          "color": "blue",
          "width": 2
         },
         "lon": [
          -74.168701171875,
          -76.20120239257812
         ],
         "mode": "lines",
         "type": "scattergeo"
        },
        {
         "lat": [
          40.692501068115234,
          39.0488014221
         ],
         "line": {
          "color": "blue",
          "width": 2
         },
         "lon": [
          -74.168701171875,
          -84.6678009033
         ],
         "mode": "lines",
         "type": "scattergeo"
        },
        {
         "lat": [
          40.692501068115234,
          26.53619956970215
         ],
         "line": {
          "color": "blue",
          "width": 2
         },
         "lon": [
          -74.168701171875,
          -81.75520324707031
         ],
         "mode": "lines",
         "type": "scattergeo"
        },
        {
         "lat": [
          40.692501068115234,
          39.998001
         ],
         "line": {
          "color": "blue",
          "width": 2
         },
         "lon": [
          -74.168701171875,
          -82.891899
         ],
         "mode": "lines",
         "type": "scattergeo"
        },
        {
         "lat": [
          40.692501068115234,
          44.80739974975586
         ],
         "line": {
          "color": "blue",
          "width": 2
         },
         "lon": [
          -74.168701171875,
          -68.8281021118164
         ],
         "mode": "lines",
         "type": "scattergeo"
        },
        {
         "lat": [
          40.692501068115234,
          24.55610084533691
         ],
         "line": {
          "color": "blue",
          "width": 2
         },
         "lon": [
          -74.168701171875,
          -81.75959777832031
         ],
         "mode": "lines",
         "type": "scattergeo"
        },
        {
         "lat": [
          40.692501068115234,
          36.097801208496094
         ],
         "line": {
          "color": "blue",
          "width": 2
         },
         "lon": [
          -74.168701171875,
          -79.93730163574219
         ],
         "mode": "lines",
         "type": "scattergeo"
        },
        {
         "lat": [
          40.692501068115234,
          34.8956985474
         ],
         "line": {
          "color": "blue",
          "width": 2
         },
         "lon": [
          -74.168701171875,
          -82.2189025879
         ],
         "mode": "lines",
         "type": "scattergeo"
        },
        {
         "lat": [
          40.692501068115234,
          35.04240036010742
         ],
         "line": {
          "color": "blue",
          "width": 2
         },
         "lon": [
          -74.168701171875,
          -89.97669982910156
         ],
         "mode": "lines",
         "type": "scattergeo"
        },
        {
         "lat": [
          40.692501068115234,
          34.270599365234375
         ],
         "line": {
          "color": "blue",
          "width": 2
         },
         "lon": [
          -74.168701171875,
          -77.90260314941406
         ],
         "mode": "lines",
         "type": "scattergeo"
        },
        {
         "lat": [
          40.692501068115234,
          38.1744
         ],
         "line": {
          "color": "blue",
          "width": 2
         },
         "lon": [
          -74.168701171875,
          -85.736
         ],
         "mode": "lines",
         "type": "scattergeo"
        },
        {
         "lat": [
          40.692501068115234,
          30.4832
         ],
         "line": {
          "color": "blue",
          "width": 2
         },
         "lon": [
          -74.168701171875,
          -86.525398
         ],
         "mode": "lines",
         "type": "scattergeo"
        },
        {
         "lat": [
          40.692501068115234,
          40.1935005188
         ],
         "line": {
          "color": "blue",
          "width": 2
         },
         "lon": [
          -74.168701171875,
          -76.7633972168
         ],
         "mode": "lines",
         "type": "scattergeo"
        },
        {
         "lat": [
          40.692501068115234,
          43.11119842529297
         ],
         "line": {
          "color": "blue",
          "width": 2
         },
         "lon": [
          -74.168701171875,
          -76.1063003540039
         ],
         "mode": "lines",
         "type": "scattergeo"
        },
        {
         "lat": [
          40.692501068115234,
          41.732601
         ],
         "line": {
          "color": "blue",
          "width": 2
         },
         "lon": [
          -74.168701171875,
          -71.420403
         ],
         "mode": "lines",
         "type": "scattergeo"
        },
        {
         "lat": [
          40.692501068115234,
          61.17440032958984
         ],
         "line": {
          "color": "blue",
          "width": 2
         },
         "lon": [
          -74.168701171875,
          -149.99600219726562
         ],
         "mode": "lines",
         "type": "scattergeo"
        },
        {
         "lat": [
          40.692501068115234,
          38.69540023803711
         ],
         "line": {
          "color": "blue",
          "width": 2
         },
         "lon": [
          -74.168701171875,
          -121.59100341796876
         ],
         "mode": "lines",
         "type": "scattergeo"
        },
        {
         "lat": [
          40.692501068115234,
          38.8521
         ],
         "line": {
          "color": "blue",
          "width": 2
         },
         "lon": [
          -74.168701171875,
          -77.037697
         ],
         "mode": "lines",
         "type": "scattergeo"
        },
        {
         "lat": [
          40.692501068115234,
          43.13990020751953
         ],
         "line": {
          "color": "blue",
          "width": 2
         },
         "lon": [
          -74.168701171875,
          -89.3375015258789
         ],
         "mode": "lines",
         "type": "scattergeo"
        },
        {
         "lat": [
          40.692501068115234,
          39.87189865112305
         ],
         "line": {
          "color": "blue",
          "width": 2
         },
         "lon": [
          -74.168701171875,
          -75.24109649658203
         ],
         "mode": "lines",
         "type": "scattergeo"
        }
       ],
       "layout": {
        "geo": {
         "center": {},
         "domain": {
          "x": [
           0,
           1
          ],
          "y": [
           0,
           1
          ]
         }
        },
        "legend": {
         "tracegroupgap": 0
        },
        "template": {
         "data": {
          "bar": [
           {
            "error_x": {
             "color": "#2a3f5f"
            },
            "error_y": {
             "color": "#2a3f5f"
            },
            "marker": {
             "line": {
              "color": "#E5ECF6",
              "width": 0.5
             },
             "pattern": {
              "fillmode": "overlay",
              "size": 10,
              "solidity": 0.2
             }
            },
            "type": "bar"
           }
          ],
          "barpolar": [
           {
            "marker": {
             "line": {
              "color": "#E5ECF6",
              "width": 0.5
             },
             "pattern": {
              "fillmode": "overlay",
              "size": 10,
              "solidity": 0.2
             }
            },
            "type": "barpolar"
           }
          ],
          "carpet": [
           {
            "aaxis": {
             "endlinecolor": "#2a3f5f",
             "gridcolor": "white",
             "linecolor": "white",
             "minorgridcolor": "white",
             "startlinecolor": "#2a3f5f"
            },
            "baxis": {
             "endlinecolor": "#2a3f5f",
             "gridcolor": "white",
             "linecolor": "white",
             "minorgridcolor": "white",
             "startlinecolor": "#2a3f5f"
            },
            "type": "carpet"
           }
          ],
          "choropleth": [
           {
            "colorbar": {
             "outlinewidth": 0,
             "ticks": ""
            },
            "type": "choropleth"
           }
          ],
          "contour": [
           {
            "colorbar": {
             "outlinewidth": 0,
             "ticks": ""
            },
            "colorscale": [
             [
              0,
              "#0d0887"
             ],
             [
              0.1111111111111111,
              "#46039f"
             ],
             [
              0.2222222222222222,
              "#7201a8"
             ],
             [
              0.3333333333333333,
              "#9c179e"
             ],
             [
              0.4444444444444444,
              "#bd3786"
             ],
             [
              0.5555555555555556,
              "#d8576b"
             ],
             [
              0.6666666666666666,
              "#ed7953"
             ],
             [
              0.7777777777777778,
              "#fb9f3a"
             ],
             [
              0.8888888888888888,
              "#fdca26"
             ],
             [
              1,
              "#f0f921"
             ]
            ],
            "type": "contour"
           }
          ],
          "contourcarpet": [
           {
            "colorbar": {
             "outlinewidth": 0,
             "ticks": ""
            },
            "type": "contourcarpet"
           }
          ],
          "heatmap": [
           {
            "colorbar": {
             "outlinewidth": 0,
             "ticks": ""
            },
            "colorscale": [
             [
              0,
              "#0d0887"
             ],
             [
              0.1111111111111111,
              "#46039f"
             ],
             [
              0.2222222222222222,
              "#7201a8"
             ],
             [
              0.3333333333333333,
              "#9c179e"
             ],
             [
              0.4444444444444444,
              "#bd3786"
             ],
             [
              0.5555555555555556,
              "#d8576b"
             ],
             [
              0.6666666666666666,
              "#ed7953"
             ],
             [
              0.7777777777777778,
              "#fb9f3a"
             ],
             [
              0.8888888888888888,
              "#fdca26"
             ],
             [
              1,
              "#f0f921"
             ]
            ],
            "type": "heatmap"
           }
          ],
          "histogram": [
           {
            "marker": {
             "pattern": {
              "fillmode": "overlay",
              "size": 10,
              "solidity": 0.2
             }
            },
            "type": "histogram"
           }
          ],
          "histogram2d": [
           {
            "colorbar": {
             "outlinewidth": 0,
             "ticks": ""
            },
            "colorscale": [
             [
              0,
              "#0d0887"
             ],
             [
              0.1111111111111111,
              "#46039f"
             ],
             [
              0.2222222222222222,
              "#7201a8"
             ],
             [
              0.3333333333333333,
              "#9c179e"
             ],
             [
              0.4444444444444444,
              "#bd3786"
             ],
             [
              0.5555555555555556,
              "#d8576b"
             ],
             [
              0.6666666666666666,
              "#ed7953"
             ],
             [
              0.7777777777777778,
              "#fb9f3a"
             ],
             [
              0.8888888888888888,
              "#fdca26"
             ],
             [
              1,
              "#f0f921"
             ]
            ],
            "type": "histogram2d"
           }
          ],
          "histogram2dcontour": [
           {
            "colorbar": {
             "outlinewidth": 0,
             "ticks": ""
            },
            "colorscale": [
             [
              0,
              "#0d0887"
             ],
             [
              0.1111111111111111,
              "#46039f"
             ],
             [
              0.2222222222222222,
              "#7201a8"
             ],
             [
              0.3333333333333333,
              "#9c179e"
             ],
             [
              0.4444444444444444,
              "#bd3786"
             ],
             [
              0.5555555555555556,
              "#d8576b"
             ],
             [
              0.6666666666666666,
              "#ed7953"
             ],
             [
              0.7777777777777778,
              "#fb9f3a"
             ],
             [
              0.8888888888888888,
              "#fdca26"
             ],
             [
              1,
              "#f0f921"
             ]
            ],
            "type": "histogram2dcontour"
           }
          ],
          "mesh3d": [
           {
            "colorbar": {
             "outlinewidth": 0,
             "ticks": ""
            },
            "type": "mesh3d"
           }
          ],
          "parcoords": [
           {
            "line": {
             "colorbar": {
              "outlinewidth": 0,
              "ticks": ""
             }
            },
            "type": "parcoords"
           }
          ],
          "pie": [
           {
            "automargin": true,
            "type": "pie"
           }
          ],
          "scatter": [
           {
            "fillpattern": {
             "fillmode": "overlay",
             "size": 10,
             "solidity": 0.2
            },
            "type": "scatter"
           }
          ],
          "scatter3d": [
           {
            "line": {
             "colorbar": {
              "outlinewidth": 0,
              "ticks": ""
             }
            },
            "marker": {
             "colorbar": {
              "outlinewidth": 0,
              "ticks": ""
             }
            },
            "type": "scatter3d"
           }
          ],
          "scattercarpet": [
           {
            "marker": {
             "colorbar": {
              "outlinewidth": 0,
              "ticks": ""
             }
            },
            "type": "scattercarpet"
           }
          ],
          "scattergeo": [
           {
            "marker": {
             "colorbar": {
              "outlinewidth": 0,
              "ticks": ""
             }
            },
            "type": "scattergeo"
           }
          ],
          "scattergl": [
           {
            "marker": {
             "colorbar": {
              "outlinewidth": 0,
              "ticks": ""
             }
            },
            "type": "scattergl"
           }
          ],
          "scattermap": [
           {
            "marker": {
             "colorbar": {
              "outlinewidth": 0,
              "ticks": ""
             }
            },
            "type": "scattermap"
           }
          ],
          "scattermapbox": [
           {
            "marker": {
             "colorbar": {
              "outlinewidth": 0,
              "ticks": ""
             }
            },
            "type": "scattermapbox"
           }
          ],
          "scatterpolar": [
           {
            "marker": {
             "colorbar": {
              "outlinewidth": 0,
              "ticks": ""
             }
            },
            "type": "scatterpolar"
           }
          ],
          "scatterpolargl": [
           {
            "marker": {
             "colorbar": {
              "outlinewidth": 0,
              "ticks": ""
             }
            },
            "type": "scatterpolargl"
           }
          ],
          "scatterternary": [
           {
            "marker": {
             "colorbar": {
              "outlinewidth": 0,
              "ticks": ""
             }
            },
            "type": "scatterternary"
           }
          ],
          "surface": [
           {
            "colorbar": {
             "outlinewidth": 0,
             "ticks": ""
            },
            "colorscale": [
             [
              0,
              "#0d0887"
             ],
             [
              0.1111111111111111,
              "#46039f"
             ],
             [
              0.2222222222222222,
              "#7201a8"
             ],
             [
              0.3333333333333333,
              "#9c179e"
             ],
             [
              0.4444444444444444,
              "#bd3786"
             ],
             [
              0.5555555555555556,
              "#d8576b"
             ],
             [
              0.6666666666666666,
              "#ed7953"
             ],
             [
              0.7777777777777778,
              "#fb9f3a"
             ],
             [
              0.8888888888888888,
              "#fdca26"
             ],
             [
              1,
              "#f0f921"
             ]
            ],
            "type": "surface"
           }
          ],
          "table": [
           {
            "cells": {
             "fill": {
              "color": "#EBF0F8"
             },
             "line": {
              "color": "white"
             }
            },
            "header": {
             "fill": {
              "color": "#C8D4E3"
             },
             "line": {
              "color": "white"
             }
            },
            "type": "table"
           }
          ]
         },
         "layout": {
          "annotationdefaults": {
           "arrowcolor": "#2a3f5f",
           "arrowhead": 0,
           "arrowwidth": 1
          },
          "autotypenumbers": "strict",
          "coloraxis": {
           "colorbar": {
            "outlinewidth": 0,
            "ticks": ""
           }
          },
          "colorscale": {
           "diverging": [
            [
             0,
             "#8e0152"
            ],
            [
             0.1,
             "#c51b7d"
            ],
            [
             0.2,
             "#de77ae"
            ],
            [
             0.3,
             "#f1b6da"
            ],
            [
             0.4,
             "#fde0ef"
            ],
            [
             0.5,
             "#f7f7f7"
            ],
            [
             0.6,
             "#e6f5d0"
            ],
            [
             0.7,
             "#b8e186"
            ],
            [
             0.8,
             "#7fbc41"
            ],
            [
             0.9,
             "#4d9221"
            ],
            [
             1,
             "#276419"
            ]
           ],
           "sequential": [
            [
             0,
             "#0d0887"
            ],
            [
             0.1111111111111111,
             "#46039f"
            ],
            [
             0.2222222222222222,
             "#7201a8"
            ],
            [
             0.3333333333333333,
             "#9c179e"
            ],
            [
             0.4444444444444444,
             "#bd3786"
            ],
            [
             0.5555555555555556,
             "#d8576b"
            ],
            [
             0.6666666666666666,
             "#ed7953"
            ],
            [
             0.7777777777777778,
             "#fb9f3a"
            ],
            [
             0.8888888888888888,
             "#fdca26"
            ],
            [
             1,
             "#f0f921"
            ]
           ],
           "sequentialminus": [
            [
             0,
             "#0d0887"
            ],
            [
             0.1111111111111111,
             "#46039f"
            ],
            [
             0.2222222222222222,
             "#7201a8"
            ],
            [
             0.3333333333333333,
             "#9c179e"
            ],
            [
             0.4444444444444444,
             "#bd3786"
            ],
            [
             0.5555555555555556,
             "#d8576b"
            ],
            [
             0.6666666666666666,
             "#ed7953"
            ],
            [
             0.7777777777777778,
             "#fb9f3a"
            ],
            [
             0.8888888888888888,
             "#fdca26"
            ],
            [
             1,
             "#f0f921"
            ]
           ]
          },
          "colorway": [
           "#636efa",
           "#EF553B",
           "#00cc96",
           "#ab63fa",
           "#FFA15A",
           "#19d3f3",
           "#FF6692",
           "#B6E880",
           "#FF97FF",
           "#FECB52"
          ],
          "font": {
           "color": "#2a3f5f"
          },
          "geo": {
           "bgcolor": "white",
           "lakecolor": "white",
           "landcolor": "#E5ECF6",
           "showlakes": true,
           "showland": true,
           "subunitcolor": "white"
          },
          "hoverlabel": {
           "align": "left"
          },
          "hovermode": "closest",
          "mapbox": {
           "style": "light"
          },
          "paper_bgcolor": "white",
          "plot_bgcolor": "#E5ECF6",
          "polar": {
           "angularaxis": {
            "gridcolor": "white",
            "linecolor": "white",
            "ticks": ""
           },
           "bgcolor": "#E5ECF6",
           "radialaxis": {
            "gridcolor": "white",
            "linecolor": "white",
            "ticks": ""
           }
          },
          "scene": {
           "xaxis": {
            "backgroundcolor": "#E5ECF6",
            "gridcolor": "white",
            "gridwidth": 2,
            "linecolor": "white",
            "showbackground": true,
            "ticks": "",
            "zerolinecolor": "white"
           },
           "yaxis": {
            "backgroundcolor": "#E5ECF6",
            "gridcolor": "white",
            "gridwidth": 2,
            "linecolor": "white",
            "showbackground": true,
            "ticks": "",
            "zerolinecolor": "white"
           },
           "zaxis": {
            "backgroundcolor": "#E5ECF6",
            "gridcolor": "white",
            "gridwidth": 2,
            "linecolor": "white",
            "showbackground": true,
            "ticks": "",
            "zerolinecolor": "white"
           }
          },
          "shapedefaults": {
           "line": {
            "color": "#2a3f5f"
           }
          },
          "ternary": {
           "aaxis": {
            "gridcolor": "white",
            "linecolor": "white",
            "ticks": ""
           },
           "baxis": {
            "gridcolor": "white",
            "linecolor": "white",
            "ticks": ""
           },
           "bgcolor": "#E5ECF6",
           "caxis": {
            "gridcolor": "white",
            "linecolor": "white",
            "ticks": ""
           }
          },
          "title": {
           "x": 0.05
          },
          "xaxis": {
           "automargin": true,
           "gridcolor": "white",
           "linecolor": "white",
           "ticks": "",
           "title": {
            "standoff": 15
           },
           "zerolinecolor": "white",
           "zerolinewidth": 2
          },
          "yaxis": {
           "automargin": true,
           "gridcolor": "white",
           "linecolor": "white",
           "ticks": "",
           "title": {
            "standoff": 15
           },
           "zerolinecolor": "white",
           "zerolinewidth": 2
          }
         }
        },
        "title": {
         "text": "Multiple Flight Paths from EWR"
        }
       }
      }
     },
     "metadata": {},
     "output_type": "display_data"
    }
   ],
   "source": [
    "def plot_multiple_flights(faa_codes, origin):\n",
    "\n",
    "    nyc = airports_df[airports_df['faa'] == origin][[\"lat\", \"lon\"]].values[0]\n",
    "    \n",
    "    fig = px.scatter_geo(airports_df, lat=\"lat\", lon=\"lon\", hover_name=\"name\",\n",
    "                         title=f\"Multiple Flight Paths from {origin}\", opacity=0.5)\n",
    "    \n",
    "    for code in faa_codes:\n",
    "        target_airport = airports_df[airports_df['faa'] == code]\n",
    "        if not target_airport.empty:\n",
    "            target_coords = target_airport[[\"lat\", \"lon\"]].values[0]\n",
    "            fig.add_scattergeo(lat=[nyc[0], target_coords[0]], lon=[nyc[1], target_coords[1]],\n",
    "                               mode=\"lines\", line=dict(width=2, color=\"blue\"))\n",
    "    \n",
    "    fig.show()\n",
    "\n",
    "def flight_finder(month: int, day: int, origin: str):\n",
    "    database = sqlite3.connect(\"flights_database.db\")\n",
    "    query = \"\"\"\n",
    "    SELECT DISTINCT dest FROM flights\n",
    "    WHERE month = ? AND day = ? AND origin = ?; \n",
    "    \"\"\"\n",
    "    destinations_df = pd.read_sql(query, database, params=(month, day, origin))\n",
    "    database.close()\n",
    "    codes = []\n",
    "    for code in destinations_df['dest']:  \n",
    "        codes.append(code)\n",
    "\n",
    "    \n",
    "    plot_multiple_flights(codes, origin)\n",
    "    \n",
    "\n",
    "flight_finder(6, 15, \"EWR\")\n",
    "        "
   ]
  },
  {
   "cell_type": "code",
   "execution_count": null,
   "metadata": {},
   "outputs": [
    {
     "data": {
      "image/png": "[encoded data removed]",
      "text/plain": [
       "<Figure size 1200x600 with 1 Axes>"
      ]
     },
     "metadata": {},
     "output_type": "display_data"
    }
   ],
   "source": [
    "\n",
    "database = sqlite3.connect(\"flights_database.db\")\n",
    "\n",
    "query = \"\"\"\n",
    "SELECT flights.carrier, AVG(flights.dep_delay) AS avg_departure_delay, airlines.name\n",
    "FROM flights\n",
    "JOIN airlines ON flights.carrier = airlines.carrier\n",
    "GROUP BY flights.carrier\n",
    "ORDER BY avg_departure_delay DESC;\n",
    "\"\"\"\n",
    "\n",
    "delay_df = pd.read_sql(query, database)\n",
    "database.close()\n",
    "\n",
    "\n",
    "plt.figure(figsize=(12, 6))\n",
    "plt.bar(delay_df[\"name\"], delay_df[\"avg_dep_delay\"], color=\"skyblue\")\n",
    "\n",
    "plt.xlabel(\"Airline\", fontsize=12)\n",
    "plt.ylabel(\"Average Departure Delay (minutes)\", fontsize=12)\n",
    "plt.title(\"Average Departure Delay per Airline\", fontsize=14)\n",
    "plt.xticks(rotation=45, ha=\"right\")  # Rotate airline names for readability\n",
    "plt.grid(axis=\"y\", linestyle=\"--\", alpha=0.7)\n",
    "\n",
    "plt.show()\n"
   ]
  },
  {
   "cell_type": "code",
   "execution_count": null,
   "metadata": {},
   "outputs": [],
   "source": []
  }
 ],
 "metadata": {
  "kernelspec": {
   "display_name": "base",
   "language": "python",
   "name": "python3"
  },
  "language_info": {
   "codemirror_mode": {
    "name": "ipython",
    "version": 3
   },
   "file_extension": ".py",
   "mimetype": "text/x-python",
   "name": "python",
   "nbconvert_exporter": "python",
   "pygments_lexer": "ipython3",
   "version": "3.12.2"
  }
 },
 "nbformat": 4,
 "nbformat_minor": 2
}
